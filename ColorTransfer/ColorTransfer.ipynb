{
 "cells": [
  {
   "cell_type": "code",
   "execution_count": 1,
   "metadata": {
    "collapsed": true
   },
   "outputs": [],
   "source": [
    "import numpy as np\n",
    "import cv2        "
   ]
  },
  {
   "cell_type": "code",
   "execution_count": 2,
   "metadata": {
    "collapsed": true
   },
   "outputs": [],
   "source": [
    "def image_stats(image):\n",
    "    #compute the mean and standard deviation of each channel\n",
    "    (l, a, b) = cv2.split(image)\n",
    "    (lMean, lStd) = (l.mean(), l.std())\n",
    "    (aMean, aStd) = (a.mean(), a.std())\n",
    "    (bMean, bStd) = (b.mean(), b.std())\n",
    "    \n",
    "    #return the color statistics\n",
    "    return (lMean, lStd, aMean, aStd, bMean, bStd)"
   ]
  },
  {
   "cell_type": "code",
   "execution_count": 3,
   "metadata": {
    "collapsed": true
   },
   "outputs": [],
   "source": [
    "\n",
    "def color_transfer(source, target):\n",
    "        #convert the images from the RGB to L*a*b* color space, being\n",
    "        # sure to utilizing the floating point data type (note: OpenCV\n",
    "        # expects floats to be 32-bit, so use that instead of 64-bit)\n",
    "        source = cv2.cvtColor(source, cv2.COLOR_BGR2LAB).astype(\"float32\")\n",
    "        target = cv2.cvtColor(target, cv2.COLOR_BGR2LAB).astype(\"float32\")\n",
    "        \n",
    "        #compute color statistics for the source and target images\n",
    "        (lMeanSrc, lStdSrc, aMeanSrc, aStdSrc, bMeanSrc, bStdSrc) = image_stats(source)\n",
    "        (lMeanTar, lStdTar, aMeanTar, aStdTar, bMeanTar, bStdTar) = image_stats(target)\n",
    "        \n",
    "        #subsctract the means from the target image\n",
    "        (l,a,b) = cv2.split(target)\n",
    "        l -= lMeanTar\n",
    "        a -= aMeanTar\n",
    "        b -= bMeanTar\n",
    "        \n",
    "        #scale bu the standard deviations\n",
    "        l = (lStdTar / lStdSrc) * l\n",
    "        a = (aStdTar / aStdSrc) * a\n",
    "        b = (bStdTar / bStdSrc) * b\n",
    "        \n",
    "        #clip the pixel intensities to [0, 255] if the fall outside\n",
    "        #this range\n",
    "        l = np.clip(l, 0, 255)\n",
    "        a = np.clip(a, 0, 255)\n",
    "        b = np.clip(b, 0, 255)\n",
    "        \n",
    "        #merge the channels together and convert back to the RGB color\n",
    "        #space, being sure to utilize the 8-bit unsigned integer data\n",
    "        # type\n",
    "        transfer = cv2.merge([l, a, b])\n",
    "        transfer = cv2.cvtColor(transfer.astype(\"uint8\"), cv2.COLOR_LAB2BGR)\n",
    "        \n",
    "        #return the color tranferred image\n",
    "        return transfer"
   ]
  },
  {
   "cell_type": "code",
   "execution_count": null,
   "metadata": {
    "collapsed": true
   },
   "outputs": [],
   "source": [
    "def show_image(title, image, width = 300):\n",
    "    # resize the image to have a constant width, just to\n",
    "    # make displaying the images take up less screen real\n",
    "    # estate\n",
    "    r = width / float(image.shape[1])\n",
    "    dim = (width, int(image.shape[0] * r))\n",
    "    resized = cv2.resize(image, dim, interpolation = cv2.INTER_AREA)\n",
    "\n",
    "    # show the resized image\n",
    "    cv2.imshow(title, resized)"
   ]
  },
  {
   "cell_type": "code",
   "execution_count": null,
   "metadata": {
    "collapsed": false
   },
   "outputs": [],
   "source": [
    "imgSrc = cv2.imread(\"C:/Users/Yaroslav/Pictures/For projects/images.jpg\")\n",
    "imgTar = cv2.imread(\"C:/Users/Yaroslav/Pictures/For projects/creepy_woods3.jpg\")\n",
    "\n",
    "\n",
    "transfer = color_transfer(imgSrc, imgTar)\n",
    "\n",
    "show_image(\"Source\", imgSrc)\n",
    "show_image(\"Target\", imgTar)\n",
    "show_image(\"Transfer\", transfer)\n",
    "cv2.waitKey(0)"
   ]
  },
  {
   "cell_type": "code",
   "execution_count": null,
   "metadata": {
    "collapsed": true
   },
   "outputs": [],
   "source": []
  }
 ],
 "metadata": {
  "kernelspec": {
   "display_name": "Python [default]",
   "language": "python",
   "name": "python3"
  },
  "language_info": {
   "codemirror_mode": {
    "name": "ipython",
    "version": 3
   },
   "file_extension": ".py",
   "mimetype": "text/x-python",
   "name": "python",
   "nbconvert_exporter": "python",
   "pygments_lexer": "ipython3",
   "version": "3.5.2"
  }
 },
 "nbformat": 4,
 "nbformat_minor": 2
}
