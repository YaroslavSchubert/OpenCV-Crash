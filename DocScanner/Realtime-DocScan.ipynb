{
 "cells": [
  {
   "cell_type": "code",
   "execution_count": null,
   "metadata": {
    "collapsed": true
   },
   "outputs": [],
   "source": [
    "from pyimagesearch.transform import four_point_transform\n",
    "from pyimagesearch import imutils\n",
    "from skimage.filters import threshold_adaptive\n",
    "import numpy as np\n",
    "import cv2"
   ]
  },
  {
   "cell_type": "code",
   "execution_count": null,
   "metadata": {
    "collapsed": true
   },
   "outputs": [],
   "source": [
    "def DetectEdges(image):\n",
    "    ratio = image.shape[0] / 500.0\n",
    "    orig = image.copy()\n",
    "    img = imutils.resize(image, height = 500)\n",
    "    return img"
   ]
  },
  {
   "cell_type": "code",
   "execution_count": null,
   "metadata": {
    "collapsed": true
   },
   "outputs": [],
   "source": [
    "def FindEdges(image):\n",
    "    gray = cv2.cvtColor(image, cv2.COLOR_BGR2GRAY)\n",
    "    gray = cv2.GaussianBlur(gray, (5,5), 0)\n",
    "    edged = cv2.Canny(gray, 75, 200)\n",
    "    return edged"
   ]
  },
  {
   "cell_type": "code",
   "execution_count": null,
   "metadata": {
    "collapsed": false
   },
   "outputs": [],
   "source": [
    "def FindContours(image):\n",
    "    success = False\n",
    "    \n",
    "    (_,cnts,_) = cv2.findContours(image.copy(), cv2.RETR_LIST, cv2.CHAIN_APPROX_SIMPLE)\n",
    "    cnts = sorted(cnts, key = cv2.contourArea, reverse = True)[:5]\n",
    "    \n",
    "    screenCnt = 0\n",
    "    #loop over the contours \n",
    "    for c in cnts:\n",
    "            #approximate the contour\n",
    "            peri = cv2.arcLength(c,True)\n",
    "            approx = cv2.approxPolyDP(c, 0.02 * peri, True)\n",
    "            \n",
    "            # if our approximated contour has four points, then we\n",
    "            # can assume that we have found our screen\n",
    "            if len(approx) == 4:\n",
    "                screenCnt = approx\n",
    "                success = True\n",
    "                break\n",
    "                \n",
    "    return screenCnt, success"
   ]
  },
  {
   "cell_type": "code",
   "execution_count": null,
   "metadata": {
    "collapsed": false
   },
   "outputs": [],
   "source": [
    "cap = cv2.VideoCapture(1)\n",
    "count = 0\n",
    "\n",
    "try:\n",
    "    while(True):      \n",
    "     \n",
    "        # Capture frame-by-frame\n",
    "        ret, frame = cap.read()\n",
    "        \n",
    "        if ret == False:\n",
    "            continue\n",
    "        \n",
    "        if count%5 !=0:\n",
    "            continue\n",
    "        #Step 1: Edge Detection\n",
    "#         image = DetectEdges(frame)\n",
    "        edged = FindEdges(frame)\n",
    "        \n",
    "        cv2.imshow(\"Image\", frame)\n",
    "        cv2.imshow(\"Edged\", edged)\n",
    "        \n",
    "        # STEP 2: Finding Contours\n",
    "        screenCnt, success = FindContours(edged)\n",
    "        if(success):\n",
    "            cv2.drawContours(frame, [screenCnt], -1, (0, 255, 0), 2)\n",
    "            cv2.imshow(\"Outline\", frame)\n",
    "        \n",
    "        if cv2.waitKey(1) & 0xFF == ord('q'):\n",
    "            break\n",
    "\n",
    "except KeyboardInterrupt:\n",
    "    cap.release()\n",
    "    cv2.destroyAllWindows()\n",
    "    print (\"Released\")\n",
    "except Exception as e :\n",
    "    cap.release()\n",
    "    cv2.destroyAllWindows()\n",
    "    print (e)    "
   ]
  },
  {
   "cell_type": "code",
   "execution_count": null,
   "metadata": {
    "collapsed": true
   },
   "outputs": [],
   "source": []
  }
 ],
 "metadata": {
  "kernelspec": {
   "display_name": "Python [default]",
   "language": "python",
   "name": "python3"
  },
  "language_info": {
   "codemirror_mode": {
    "name": "ipython",
    "version": 3
   },
   "file_extension": ".py",
   "mimetype": "text/x-python",
   "name": "python",
   "nbconvert_exporter": "python",
   "pygments_lexer": "ipython3",
   "version": "3.5.2"
  }
 },
 "nbformat": 4,
 "nbformat_minor": 2
}
