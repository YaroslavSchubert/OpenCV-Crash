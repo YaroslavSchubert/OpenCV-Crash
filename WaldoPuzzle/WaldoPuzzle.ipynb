{
 "cells": [
  {
   "cell_type": "code",
   "execution_count": 1,
   "metadata": {
    "collapsed": true
   },
   "outputs": [],
   "source": [
    "import numpy as np\n",
    "import imutils\n",
    "import cv2 "
   ]
  },
  {
   "cell_type": "code",
   "execution_count": 2,
   "metadata": {
    "collapsed": false
   },
   "outputs": [],
   "source": [
    "# load the puzzle and waldo images\n",
    "\n",
    "puzzleImg = \"C:/Users/Yaroslav/Pictures/For projects/puzzle_small.jpg\"\n",
    "waldoImg = \"C:/Users/Yaroslav/Pictures/For projects/waldo-new.png\"\n",
    "\n",
    "puzzle = cv2.imread(puzzleImg)\n",
    "waldo = cv2.imread(waldoImg)\n",
    "(waldoHeight, waldoWidth) = waldo.shape[:2]"
   ]
  },
  {
   "cell_type": "code",
   "execution_count": 3,
   "metadata": {
    "collapsed": false
   },
   "outputs": [],
   "source": [
    "result = cv2.matchTemplate(puzzle, waldo, cv2.TM_CCOEFF)\n",
    "( _, _, minLoc, maxLoc) = cv2.minMaxLoc(result)"
   ]
  },
  {
   "cell_type": "code",
   "execution_count": null,
   "metadata": {
    "collapsed": false
   },
   "outputs": [],
   "source": [
    "# the puzzle image\n",
    "topLeft = maxLoc\n",
    "botRight =  (topLeft[0] + waldoWidth, topLeft[1] + waldoHeight)\n",
    "roi = puzzle[topLeft[1]:botRight[1], topLeft[0]:botRight[0]]\n",
    "\n",
    "#construct a darkened transparent 'layer' to darken everything\n",
    "# in the puzzle except for waldo\n",
    "mask = np.zeros(puzzle.shape, dtype = \"uint8\")\n",
    "puzzle = cv2.addWeighted(puzzle, 0.25, mask, 0.75, 0)"
   ]
  },
  {
   "cell_type": "code",
   "execution_count": null,
   "metadata": {
    "collapsed": true
   },
   "outputs": [],
   "source": [
    "# put the original waldo back in the image so that se is \n",
    "# 'brighter' than the rest of the image\n",
    "puzzle[topLeft[1]:botRight[1], topLeft[0]:botRight[0]] = roi\n",
    "\n",
    "#display the images\n",
    "cv2.imshow(\"Puzzle\", imutils.resize(puzzle, height = 650))\n",
    "cv2.imshow(\"Waldo\", waldo)\n",
    "cv2.waitKey(0)"
   ]
  }
 ],
 "metadata": {
  "kernelspec": {
   "display_name": "Python [default]",
   "language": "python",
   "name": "python3"
  },
  "language_info": {
   "codemirror_mode": {
    "name": "ipython",
    "version": 3
   },
   "file_extension": ".py",
   "mimetype": "text/x-python",
   "name": "python",
   "nbconvert_exporter": "python",
   "pygments_lexer": "ipython3",
   "version": "3.5.2"
  }
 },
 "nbformat": 4,
 "nbformat_minor": 2
}
